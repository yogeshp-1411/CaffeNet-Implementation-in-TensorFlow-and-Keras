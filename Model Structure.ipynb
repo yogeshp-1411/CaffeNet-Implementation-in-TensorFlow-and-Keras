{
 "cells": [
  {
   "cell_type": "markdown",
   "metadata": {},
   "source": [
    "# model"
   ]
  },
  {
   "cell_type": "code",
   "execution_count": 103,
   "metadata": {},
   "outputs": [],
   "source": [
    "import tensorflow as tf\n",
    "from tensorflow import keras\n",
    "from tensorflow.keras.models import Sequential\n",
    "from tensorflow.keras.layers import Conv2D, MaxPooling2D, ZeroPadding2D, Dropout\n",
    "\n",
    "IMG_SHAPE = 227\n",
    "\n",
    "model = Sequential([\n",
    "    Conv2D(96, kernel_size = (11,11), strides = (4,4), activation = 'relu', input_shape = (IMG_SHAPE, IMG_SHAPE, 1)),\n",
    "    MaxPooling2D((2,2)),\n",
    "    \n",
    "    Conv2D(256, kernel_size = (5,5), strides = (1,1), activation = 'relu'),\n",
    "    ZeroPadding2D(padding = (2,2)),\n",
    "    MaxPooling2D((2,2)),\n",
    "    \n",
    "    Conv2D(384, kernel_size = (3,3), strides = (1,1), activation = 'relu'),\n",
    "    ZeroPadding2D(padding = (1,1)),\n",
    "    \n",
    "    Conv2D(384, kernel_size = (3,3), strides = (1,1), activation = 'relu'),\n",
    "    ZeroPadding2D(padding = (1,1)),\n",
    "    \n",
    "    Conv2D(256, kernel_size = (3,3), strides = (1,1), activation = 'relu'),\n",
    "    ZeroPadding2D(padding = (1,1)),\n",
    "    MaxPooling2D(2,2),\n",
    "    \n",
    "    Dropout(0.5),\n",
    "    tf.keras.layers.Flatten(),\n",
    "    tf.keras.layers.Dense(4096, activation='relu'),\n",
    "    \n",
    "    Dropout(0.5),\n",
    "    tf.keras.layers.Flatten(),\n",
    "    tf.keras.layers.Dense(4096, activation='relu'),\n",
    "    \n",
    "    tf.keras.layers.Dense(1, activation='softmax')\n",
    "])"
   ]
  },
  {
   "cell_type": "code",
   "execution_count": 106,
   "metadata": {},
   "outputs": [
    {
     "name": "stdout",
     "output_type": "stream",
     "text": [
      "Model: \"sequential_49\"\n",
      "_________________________________________________________________\n",
      "Layer (type)                 Output Shape              Param #   \n",
      "=================================================================\n",
      "conv2d_135 (Conv2D)          (None, 55, 55, 96)        11712     \n",
      "_________________________________________________________________\n",
      "max_pooling2d_109 (MaxPoolin (None, 27, 27, 96)        0         \n",
      "_________________________________________________________________\n",
      "conv2d_136 (Conv2D)          (None, 23, 23, 256)       614656    \n",
      "_________________________________________________________________\n",
      "zero_padding2d_53 (ZeroPaddi (None, 27, 27, 256)       0         \n",
      "_________________________________________________________________\n",
      "max_pooling2d_110 (MaxPoolin (None, 13, 13, 256)       0         \n",
      "_________________________________________________________________\n",
      "conv2d_137 (Conv2D)          (None, 11, 11, 384)       885120    \n",
      "_________________________________________________________________\n",
      "zero_padding2d_54 (ZeroPaddi (None, 13, 13, 384)       0         \n",
      "_________________________________________________________________\n",
      "conv2d_138 (Conv2D)          (None, 11, 11, 384)       1327488   \n",
      "_________________________________________________________________\n",
      "zero_padding2d_55 (ZeroPaddi (None, 13, 13, 384)       0         \n",
      "_________________________________________________________________\n",
      "conv2d_139 (Conv2D)          (None, 11, 11, 256)       884992    \n",
      "_________________________________________________________________\n",
      "zero_padding2d_56 (ZeroPaddi (None, 13, 13, 256)       0         \n",
      "_________________________________________________________________\n",
      "max_pooling2d_111 (MaxPoolin (None, 6, 6, 256)         0         \n",
      "_________________________________________________________________\n",
      "dropout_8 (Dropout)          (None, 6, 6, 256)         0         \n",
      "_________________________________________________________________\n",
      "flatten_10 (Flatten)         (None, 9216)              0         \n",
      "_________________________________________________________________\n",
      "dense_3 (Dense)              (None, 4096)              37752832  \n",
      "_________________________________________________________________\n",
      "dropout_9 (Dropout)          (None, 4096)              0         \n",
      "_________________________________________________________________\n",
      "flatten_11 (Flatten)         (None, 4096)              0         \n",
      "_________________________________________________________________\n",
      "dense_4 (Dense)              (None, 4096)              16781312  \n",
      "_________________________________________________________________\n",
      "dense_5 (Dense)              (None, 1)                 4097      \n",
      "=================================================================\n",
      "Total params: 58,262,209\n",
      "Trainable params: 58,262,209\n",
      "Non-trainable params: 0\n",
      "_________________________________________________________________\n"
     ]
    }
   ],
   "source": [
    "model.summary()"
   ]
  },
  {
   "cell_type": "code",
   "execution_count": 105,
   "metadata": {},
   "outputs": [],
   "source": [
    "model.compile(optimizer='adam',\n",
    "              loss='sparse_categorical_crossentropy',\n",
    "              metrics=['accuracy'])"
   ]
  },
  {
   "cell_type": "code",
   "execution_count": null,
   "metadata": {},
   "outputs": [],
   "source": []
  }
 ],
 "metadata": {
  "kernelspec": {
   "display_name": "Python 3",
   "language": "python",
   "name": "python3"
  },
  "language_info": {
   "codemirror_mode": {
    "name": "ipython",
    "version": 3
   },
   "file_extension": ".py",
   "mimetype": "text/x-python",
   "name": "python",
   "nbconvert_exporter": "python",
   "pygments_lexer": "ipython3",
   "version": "3.8.3"
  }
 },
 "nbformat": 4,
 "nbformat_minor": 4
}
